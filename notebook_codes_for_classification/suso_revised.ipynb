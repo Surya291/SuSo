{
 "cells": [
  {
   "cell_type": "code",
   "execution_count": 28,
   "metadata": {},
   "outputs": [],
   "source": [
    "import cv2\n",
    "import matplotlib.pyplot as plt\n",
    "import numpy as np\n",
    "import operator\n",
    "import PIL\n",
    "from PIL import Image"
   ]
  },
  {
   "cell_type": "code",
   "execution_count": 51,
   "metadata": {},
   "outputs": [
    {
     "name": "stdout",
     "output_type": "stream",
     "text": [
      "(512, 481)\n"
     ]
    }
   ],
   "source": [
    "img = cv2.imread('sudoku_2.jpeg',0)\n",
    "print(np.shape(img))\n",
    "\n",
    "puzzle = img\n",
    "out_box = np.zeros((np.size(puzzle)), np.uint8)\n",
    "dst = cv2.GaussianBlur(puzzle, (9, 9), 0)\n",
    "kernel = np.array([[0,1,0],[1,1,1],[0,1,0]],np.uint8)\n",
    "kernel2 = np.ones((3,3),np.int8)\n",
    "out_box = cv2.adaptiveThreshold(dst, 255, cv2.ADAPTIVE_THRESH_GAUSSIAN_C, cv2.THRESH_BINARY, 11,2)\n",
    "out_box = cv2.bitwise_not(out_box)\n",
    "real = out_box.copy()\n",
    "\n"
   ]
  },
  {
   "cell_type": "code",
   "execution_count": 52,
   "metadata": {},
   "outputs": [],
   "source": [
    "\n",
    "\n",
    "cv2.imshow('image', real) \n",
    "cv2.waitKey(0)   \n",
    "cv2.destroyAllWindows()\n",
    "#print(out_box)\n"
   ]
  },
  {
   "cell_type": "code",
   "execution_count": 53,
   "metadata": {
    "scrolled": true
   },
   "outputs": [
    {
     "data": {
      "image/png": "[encoded data removed]",
      "text/plain": [
       "<Figure size 432x288 with 1 Axes>"
      ]
     },
     "metadata": {
      "needs_background": "light"
     },
     "output_type": "display_data"
    }
   ],
   "source": [
    "maxi = -1\n",
    "maxpt = None\n",
    "count = 10\n",
    "height, width = np.shape(out_box)\n",
    "m = 0\n",
    "for y in range(height):\n",
    "    row = out_box[y]\n",
    "    #plt.imshow(out_box,cmap='gray', vmin=0, vmax=255)\n",
    "    #print(row)\n",
    "    for x in range(width):\n",
    "        #print(row)\n",
    "        if row[x] >= 128:\n",
    "            \n",
    "            area = cv2.floodFill(out_box, None, (x, y), 64)[0]\n",
    "\n",
    "            #plt.imshow(out_box,cmap='gray', vmin=0, vmax=255)\n",
    "            #plt.show()\n",
    " \n",
    "            if area > maxi:\n",
    "                maxpt = (x,y)\n",
    "                maxi = area\n",
    "                \n",
    "'''\n",
    "cv2.imshow('iMAGE',out_box) \n",
    "cv2.waitKey(0)   \n",
    "cv2.destroyAllWindows()\n",
    "print(area)\n",
    "print(maxpt)\n",
    "'''\n",
    "\n",
    "\n",
    "final = cv2.floodFill(out_box, None, maxpt, 256)\n",
    "\n",
    "\n",
    "#plt.imshow(out_box,cmap='gray', vmin=0, vmax=255)\n",
    "#plt.show()\n",
    "\n",
    "for y in range(height):\n",
    "    row = out_box[y]\n",
    "    #plt.imshow(out_box,cmap='gray', vmin=0, vmax=255)\n",
    "    #print(row)\n",
    "    for x in range(width):\n",
    "        #print(row)\n",
    "        if row[x] ==64:\n",
    "            \n",
    "            cv2.floodFill(out_box, None, (x, y), 0)[0]\n",
    "\n",
    "\n",
    "\n",
    "plt.imshow(out_box,cmap='gray', vmin=0, vmax=255)\n",
    "plt.show()\n",
    "\n",
    "\n"
   ]
  },
  {
   "cell_type": "code",
   "execution_count": 54,
   "metadata": {},
   "outputs": [
    {
     "ename": "KeyboardInterrupt",
     "evalue": "",
     "output_type": "error",
     "traceback": [
      "\u001b[0;31m---------------------------------------------------------------------------\u001b[0m",
      "\u001b[0;31mKeyboardInterrupt\u001b[0m                         Traceback (most recent call last)",
      "\u001b[0;32m<ipython-input-54-c09e7d5f7a40>\u001b[0m in \u001b[0;36m<module>\u001b[0;34m\u001b[0m\n\u001b[1;32m     17\u001b[0m     \u001b[0mimage\u001b[0m \u001b[0;34m=\u001b[0m \u001b[0mstr\u001b[0m\u001b[0;34m(\u001b[0m\u001b[0mi\u001b[0m\u001b[0;34m)\u001b[0m \u001b[0;34m+\u001b[0m \u001b[0;34m\".jpeg\"\u001b[0m\u001b[0;34m\u001b[0m\u001b[0;34m\u001b[0m\u001b[0m\n\u001b[1;32m     18\u001b[0m     \u001b[0;31m#print(image)\u001b[0m\u001b[0;34m\u001b[0m\u001b[0;34m\u001b[0m\u001b[0;34m\u001b[0m\u001b[0m\n\u001b[0;32m---> 19\u001b[0;31m     \u001b[0mvideo\u001b[0m\u001b[0;34m.\u001b[0m\u001b[0mwrite\u001b[0m\u001b[0;34m(\u001b[0m\u001b[0mcv2\u001b[0m\u001b[0;34m.\u001b[0m\u001b[0mimread\u001b[0m\u001b[0;34m(\u001b[0m\u001b[0mos\u001b[0m\u001b[0;34m.\u001b[0m\u001b[0mpath\u001b[0m\u001b[0;34m.\u001b[0m\u001b[0mjoin\u001b[0m\u001b[0;34m(\u001b[0m\u001b[0mimage_folder\u001b[0m\u001b[0;34m,\u001b[0m \u001b[0mimage\u001b[0m\u001b[0;34m)\u001b[0m\u001b[0;34m)\u001b[0m\u001b[0;34m)\u001b[0m\u001b[0;34m\u001b[0m\u001b[0;34m\u001b[0m\u001b[0m\n\u001b[0m\u001b[1;32m     20\u001b[0m \u001b[0;34m\u001b[0m\u001b[0m\n\u001b[1;32m     21\u001b[0m \u001b[0mcv2\u001b[0m\u001b[0;34m.\u001b[0m\u001b[0mdestroyAllWindows\u001b[0m\u001b[0;34m(\u001b[0m\u001b[0;34m)\u001b[0m\u001b[0;34m\u001b[0m\u001b[0;34m\u001b[0m\u001b[0m\n",
      "\u001b[0;31mKeyboardInterrupt\u001b[0m: "
     ]
    }
   ],
   "source": [
    "import cv2\n",
    "import os\n",
    "\n",
    "image_folder = 'flood'\n",
    "video_name = 'video.avi'\n",
    "\n",
    "images = [img for img in os.listdir(image_folder) if img.endswith(\".jpeg\")]\n",
    "frame = cv2.imread(os.path.join(image_folder, images[0]))\n",
    "height, width, layers = frame.shape\n",
    "\n",
    "length = len(images)\n",
    "video = cv2.VideoWriter(video_name, 0, int(length/7), (width,height))\n",
    "\n",
    "\n",
    "\n",
    "for i in range(1,length  + 1):\n",
    "    image = str(i) + \".jpeg\"\n",
    "    #print(image)\n",
    "    video.write(cv2.imread(os.path.join(image_folder, image)))\n",
    "\n",
    "cv2.destroyAllWindows()\n",
    "video.release()\n",
    "print('done')\n"
   ]
  },
  {
   "cell_type": "code",
   "execution_count": 55,
   "metadata": {},
   "outputs": [
    {
     "data": {
      "text/plain": [
       "<matplotlib.image.AxesImage at 0x7f7f066007d0>"
      ]
     },
     "execution_count": 55,
     "metadata": {},
     "output_type": "execute_result"
    },
    {
     "data": {
      "image/png": "[encoded data removed]",
      "text/plain": [
       "<Figure size 432x288 with 1 Axes>"
      ]
     },
     "metadata": {
      "needs_background": "light"
     },
     "output_type": "display_data"
    }
   ],
   "source": [
    "kernel = np.ones((2,2), np.uint8)\n",
    "img_dil = cv2.erode(out_box, kernel, iterations = 1)\n",
    "#img_dil = out_box\n",
    "plt.imshow(img_dil,cmap='gray', vmin=0, vmax=255)\n"
   ]
  },
  {
   "cell_type": "code",
   "execution_count": 68,
   "metadata": {},
   "outputs": [
    {
     "name": "stdout",
     "output_type": "stream",
     "text": [
      "1\n"
     ]
    }
   ],
   "source": [
    "copy = img_dil.copy()\n",
    "contours, h = cv2.findContours(copy, cv2.RETR_EXTERNAL, cv2.CHAIN_APPROX_NONE) \n",
    "print(len(contours))\n",
    "\n",
    "#cv2.drawContours(copy, contours, 0, (8, 230, 255), 6)\n",
    "\n",
    "#plt.imshow(copy,cmap='gray', vmin=0, vmax=255)\n",
    "cv2.imshow('Contours', copy)\n",
    "cv2.waitKey(0)\n",
    "cv2.destroyAllWindows() \n",
    "#print(h)\n"
   ]
  },
  {
   "cell_type": "code",
   "execution_count": 57,
   "metadata": {},
   "outputs": [],
   "source": [
    "contours = sorted(contours, key=cv2.contourArea, reverse=True)\n",
    "large = contours[0]\n",
    "\n",
    "result_img = cv2.cvtColor(real, cv2.COLOR_GRAY2RGB)\n",
    "\n",
    "cv2.drawContours(result_img, contours, 0, (0, 230, 255), 6)\n",
    "\n",
    "cv2.imshow('Contours', result_img)\n",
    "cv2.waitKey(0)\n",
    "cv2.destroyAllWindows() \n",
    "\n",
    "#print(contours[0])\n",
    "#cv2.drawContours(copy, contours, 0, (0, 230, 255), 6)\n",
    "#plt.imshow(copy,cmap='gray', vmin=0, vmax=255)"
   ]
  },
  {
   "cell_type": "code",
   "execution_count": 58,
   "metadata": {},
   "outputs": [],
   "source": [
    "result_img = cv2.cvtColor(real, cv2.COLOR_GRAY2RGB)\n",
    "\n",
    "cv2.drawContours(result_img, large, 0, (255,0,0), 2)\n",
    "\n",
    "cv2.imshow('Contours', result_img)\n",
    "cv2.waitKey(0)\n",
    "cv2.destroyAllWindows() "
   ]
  },
  {
   "cell_type": "code",
   "execution_count": 59,
   "metadata": {},
   "outputs": [],
   "source": [
    "def dist(a,b):\n",
    "    return (np.sqrt((a[0]-b[0])**2 +(a[1]-b[1])**2)) \n",
    "#a = np.ones(2)\n",
    "#b = np.zeros(2)\n",
    "#print(dist(a,b))"
   ]
  },
  {
   "cell_type": "code",
   "execution_count": 69,
   "metadata": {},
   "outputs": [
    {
     "name": "stdout",
     "output_type": "stream",
     "text": [
      "[[ 83. 103.]\n",
      " [405.  91.]\n",
      " [439. 392.]\n",
      " [ 53. 404.]]\n",
      "\n"
     ]
    }
   ],
   "source": [
    "polygon = contours[0]\n",
    "\n",
    "bottom_right, _ = max(enumerate([pt[0][0] + pt[0][1] for pt in polygon]), key=operator.itemgetter(1))\n",
    "top_left, _ = min(enumerate([pt[0][0] + pt[0][1] for pt in polygon]), key=operator.itemgetter(1))\n",
    "bottom_left, _ = min(enumerate([pt[0][0] - pt[0][1] for pt in polygon]), key=operator.itemgetter(1))\n",
    "top_right, _ = max(enumerate([pt[0][0] - pt[0][1] for pt in polygon]), key=operator.itemgetter(1))\n",
    "\n",
    "rect = np.zeros((4, 2), dtype = \"float32\")\n",
    "rect[0] = polygon[top_left][0]\n",
    "rect[1] = polygon[top_right][0]\n",
    "rect[2] = polygon[bottom_right][0]\n",
    "rect[3] = polygon[bottom_left][0]\n",
    "\n",
    "\n",
    "print(rect)\n",
    "\n",
    "# now that we have our rectangle of points, let's compute the width and height\n",
    "\n",
    "(tl,tr,br,bl) = rect\n",
    "w_a = dist(tl,tr)\n",
    "w_b = dist(bl,br)\n",
    "\n",
    "maxWidth = int(max(w_a,w_b))\n",
    "\n",
    "h_a = dist(tl,bl)\n",
    "h_b = dist(tr,br)\n",
    "maxHeight = int(max(h_a,h_b))\n",
    "print()\n",
    "\n",
    "dst = np.array([[0, 0],[maxWidth - 1, 0],[maxWidth - 1, maxHeight - 1],[0, maxHeight - 1]], dtype = \"float32\")\n",
    "\n",
    "M = cv2.getPerspectiveTransform(rect, dst)\n",
    "warp = cv2.warpPerspective(real, M, (maxWidth, maxHeight))\n",
    "\n",
    "cv2.imshow('image', warp) \n",
    "cv2.waitKey(0)   \n",
    "cv2.destroyAllWindows()\n"
   ]
  },
  {
   "cell_type": "code",
   "execution_count": 70,
   "metadata": {},
   "outputs": [
    {
     "name": "stdout",
     "output_type": "stream",
     "text": [
      "(302, 386)\n",
      "(360, 360)\n",
      "360\n"
     ]
    }
   ],
   "source": [
    "copy2 = warp.copy()\n",
    "\n",
    "cv2.imshow('image', copy2) \n",
    "cv2.waitKey(0)   \n",
    "cv2.destroyAllWindows()\n",
    "\n",
    "\n",
    "print(np.shape(copy2))\n",
    "\n",
    "\n",
    "dim = (40*9,40*9)\n",
    "\n",
    "resized = cv2.resize(copy2, dim) \n",
    "\n",
    "\n",
    "print(np.shape(resized))\n",
    "cv2.imshow('image', resized) \n",
    "cv2.waitKey(0)   \n",
    "cv2.destroyAllWindows()\n",
    "\n",
    "\n",
    "\n",
    "\n",
    "\n",
    "h,w = np.shape(resized[0:])\n",
    "\n",
    "print(h)\n"
   ]
  },
  {
   "cell_type": "code",
   "execution_count": 134,
   "metadata": {},
   "outputs": [
    {
     "ename": "TypeError",
     "evalue": "unsupported operand type(s) for /: 'tuple' and 'int'",
     "output_type": "error",
     "traceback": [
      "\u001b[0;31m---------------------------------------------------------------------------\u001b[0m",
      "\u001b[0;31mTypeError\u001b[0m                                 Traceback (most recent call last)",
      "\u001b[0;32m<ipython-input-134-b4fbea1224fe>\u001b[0m in \u001b[0;36m<module>\u001b[0;34m\u001b[0m\n\u001b[0;32m----> 1\u001b[0;31m \u001b[0mprint\u001b[0m\u001b[0;34m(\u001b[0m\u001b[0mh\u001b[0m\u001b[0;34m/\u001b[0m\u001b[0;36m9\u001b[0m\u001b[0;34m)\u001b[0m\u001b[0;34m\u001b[0m\u001b[0;34m\u001b[0m\u001b[0m\n\u001b[0m",
      "\u001b[0;31mTypeError\u001b[0m: unsupported operand type(s) for /: 'tuple' and 'int'"
     ]
    }
   ],
   "source": []
  },
  {
   "cell_type": "code",
   "execution_count": 40,
   "metadata": {},
   "outputs": [
    {
     "name": "stdout",
     "output_type": "stream",
     "text": [
      "((0, 0), (40, 40))\n"
     ]
    }
   ],
   "source": [
    "def obtain_dig(img):\n",
    "    digits = []\n",
    "    h,w = np.shape(img[:])\n",
    "    dig_h = int(h/9)\n",
    "    dig_w =int(w/9) \n",
    "    \n",
    "    for j in range(0,9):\n",
    "        for i in range (0,9):\n",
    "            tl = (i*dig_h , j*dig_w)\n",
    "            br = (i*dig_h + dig_h, j*dig_w + dig_w)\n",
    "            points = (tl,br)\n",
    "            digits.append(points)\n",
    "    return digits,dig_h\n",
    "            \n",
    "digits,side = obtain_dig(resized)\n",
    "(tl,br) = (digits[0])\n",
    "print(digits[0])"
   ]
  },
  {
   "cell_type": "code",
   "execution_count": 41,
   "metadata": {},
   "outputs": [],
   "source": [
    "    def obtain_dig(img):\n",
    "        '''\n",
    "        return a list containing the coords of the ends of the squares\n",
    "        of the digit\n",
    "        '''\n",
    "        digits = []\n",
    "        h, w = np.shape(img[:])\n",
    "        dig_h = int(h / 9)\n",
    "        dig_w = int(w / 9)\n",
    "\n",
    "        for j in range(0, 9):\n",
    "            for i in range(0, 9):\n",
    "                tl = (i * dig_h, j * dig_w)\n",
    "                br = (i * dig_h + dig_h, j * dig_w + dig_w)\n",
    "                points = (tl, br)\n",
    "                digits.append(points)\n",
    "        return digits,dig_h\n",
    "\n",
    "    def processing(dig_img):\n",
    "        maxi = 0\n",
    "        seed = (None, None)\n",
    "        side, side = np.shape(dig_img[:])\n",
    "        margin = int(side / 6)\n",
    "        corner = [margin, side - margin, margin, side - margin]\n",
    "        for y in range(corner[0], corner[1]):\n",
    "            row = dig_img[y]\n",
    "            for x in range(corner[2], corner[3]):\n",
    "                if row[x] >= 128:\n",
    "                    area = cv2.floodFill(dig_img, None, (x, y), 64)[0]\n",
    "                    if (area > maxi):\n",
    "                        seed = (x, y)\n",
    "                        maxi = area\n",
    "\n",
    "        for y in range(0, side):\n",
    "            row = dig_img[y]\n",
    "            for x in range(0, side):\n",
    "                if (row[x] >= 128):\n",
    "                    cv2.floodFill(dig_img, None, (x, y), 64)\n",
    "\n",
    "        if maxi > 0:\n",
    "            cv2.floodFill(dig_img, None, seed, 255)\n",
    "\n",
    "        top, bottom, left, right = side, 0, side, 0\n",
    "\n",
    "        for y in range(0, side):\n",
    "            row = dig_img[y]\n",
    "            for x in range(0, side):\n",
    "\n",
    "                if (row[x] > 0 and row[x] < 250):\n",
    "                    cv2.floodFill(dig_img, None, (x, y), 0)\n",
    "\n",
    "                # Find the bounding parameters\n",
    "                if row[x] == 255:\n",
    "                    top = y if y < top else top\n",
    "                    bottom = y if y > bottom else bottom\n",
    "                    left = x if x < left else left\n",
    "                    right = x if x > right else right\n",
    "\n",
    "        ends = [[top, left], [bottom, right]]\n",
    "\n",
    "        return dig_img,ends\n",
    "\n",
    "    def cut_img(img, ends):\n",
    "        copy = img[ends[0][0]: ends[1][0], ends[0][1]: ends[1][1]]\n",
    "        return copy\n",
    "\n",
    "    def scale_and_centre(img, size, margin=0, background=0):\n",
    "        \"\"\"Scales and centres an image onto a new background square.\"\"\"\n",
    "        h, w = img.shape[:2]\n",
    "\n",
    "        def centre_pad(length):\n",
    "            \"\"\"Handles centering for a given length that may be odd or even.\"\"\"\n",
    "            if length % 2 == 0:\n",
    "                side1 = int((size - length) / 2)\n",
    "                side2 = side1\n",
    "            else:\n",
    "                side1 = int((size - length) / 2)\n",
    "                side2 = side1 + 1\n",
    "            return side1, side2\n",
    "\n",
    "        def scale(r, x):\n",
    "            return int(r * x)\n",
    "\n",
    "        if h > w:\n",
    "            t_pad = int(margin / 2)\n",
    "            b_pad = t_pad\n",
    "            ratio = (size - margin) / h\n",
    "            w, h = scale(ratio, w), scale(ratio, h)\n",
    "            l_pad, r_pad = centre_pad(w)\n",
    "        else:\n",
    "            l_pad = int(margin / 2)\n",
    "            r_pad = l_pad\n",
    "            ratio = (size - margin) / w\n",
    "            w, h = scale(ratio, w), scale(ratio, h)\n",
    "            t_pad, b_pad = centre_pad(h)\n",
    "\n",
    "        img = cv2.resize(img, (w, h))\n",
    "        img = cv2.copyMakeBorder(img, t_pad, b_pad, l_pad, r_pad, cv2.BORDER_CONSTANT, None, background)\n",
    "        return cv2.resize(img, (size, size))\n"
   ]
  },
  {
   "cell_type": "code",
   "execution_count": 42,
   "metadata": {},
   "outputs": [],
   "source": [
    "def processing(dig_img):\n",
    "    maxi = 0\n",
    "    seed = (None,None)\n",
    "    side,side = np.shape(dig_img[:])\n",
    "    margin = int(side/6)\n",
    "    corner = [margin,side-margin,margin,side-margin]\n",
    "    print(corner)\n",
    "    for y in range(corner[0],corner[1]):\n",
    "        row = dig_img[y]\n",
    "        for x in range (corner[2],corner[3]):\n",
    "            \n",
    "            if row[x] >= 128:\n",
    "                area = cv2.floodFill(dig_img, None, (x, y), 64)[0]\n",
    "                if(area > maxi):\n",
    "                    seed = (x,y)\n",
    "                    maxi = area\n",
    "                    \n",
    "    \n",
    "    \n",
    "    for y in range(0,side):\n",
    "        row = dig_img[y]\n",
    "        for x in range(0,side):\n",
    "            if(row[x] >= 128):\n",
    "                cv2.floodFill(dig_img,None, (x, y), 64)\n",
    "\n",
    "    if maxi > 0:\n",
    "        cv2.floodFill(dig_img, None, seed, 255)\n",
    "    \n",
    "    maxim = 0\n",
    "    minim = 2*side\n",
    "    \n",
    "    top, bottom, left, right = side, 0, side, 0\n",
    "\n",
    "    for y in range(0,side):\n",
    "        row = dig_img[y]\n",
    "        for x in range(0,side):\n",
    "            \n",
    "            if(row[x] > 0 and row[x] < 250):\n",
    "                cv2.floodFill(dig_img,None, (x, y), 0)\n",
    "                '''\n",
    "            elif(row[x]==255):\n",
    "                 if ((x+y) < minim and (x+y) > 0 ) :\n",
    "                        (t,l) = (y,x)\n",
    "                        minim = (x+y)\n",
    "                \n",
    "                 if ((x+y) > maxim and  (x+y) < 2*side) :\n",
    "                        (b,r) = (y,x)\n",
    "                        maxim = (x+y)\n",
    "    ends = [t,l,b,r]\n",
    "    '''\n",
    "    \n",
    "            # Find the bounding parameters\n",
    "            if row[x] == 255:\n",
    "                top = y if y < top else top\n",
    "                bottom = y if y > bottom else bottom\n",
    "                left = x if x < left else left\n",
    "                right = x if x > right else right\n",
    "    \n",
    "    \n",
    "    ends = [[top,left],[bottom,right]]\n",
    "       \n",
    "    return dig_img,ends\n"
   ]
  },
  {
   "cell_type": "code",
   "execution_count": 44,
   "metadata": {},
   "outputs": [],
   "source": [
    "def cut_img(img,ends):\n",
    "    #copy  =  img.copy()\n",
    "    copy  = img[ends[0][0] : ends[1][0],ends[0][1] : ends[1][1]]\n",
    "    return copy\n",
    "\n",
    "    "
   ]
  },
  {
   "cell_type": "code",
   "execution_count": 45,
   "metadata": {},
   "outputs": [],
   "source": [
    "def scale_and_centre(img, size, margin=0, background=0):\n",
    "\t\"\"\"Scales and centres an image onto a new background square.\"\"\"\n",
    "\th, w = img.shape[:2]\n",
    "\n",
    "\tdef centre_pad(length):\n",
    "\t\t\"\"\"Handles centering for a given length that may be odd or even.\"\"\"\n",
    "\t\tif length % 2 == 0:\n",
    "\t\t\tside1 = int((size - length) / 2)\n",
    "\t\t\tside2 = side1\n",
    "\t\telse:\n",
    "\t\t\tside1 = int((size - length) / 2)\n",
    "\t\t\tside2 = side1 + 1\n",
    "\t\treturn side1, side2\n",
    "\n",
    "\tdef scale(r, x):\n",
    "\t\treturn int(r * x)\n",
    "\n",
    "\tif h > w:\n",
    "\t\tt_pad = int(margin / 2)\n",
    "\t\tb_pad = t_pad\n",
    "\t\tratio = (size - margin) / h\n",
    "\t\tw, h = scale(ratio, w), scale(ratio, h)\n",
    "\t\tl_pad, r_pad = centre_pad(w)\n",
    "\telse:\n",
    "\t\tl_pad = int(margin / 2)\n",
    "\t\tr_pad = l_pad\n",
    "\t\tratio = (size - margin) / w\n",
    "\t\tw, h = scale(ratio, w), scale(ratio, h)\n",
    "\t\tt_pad, b_pad = centre_pad(h)\n",
    "\n",
    "\timg = cv2.resize(img, (w, h))\n",
    "\timg = cv2.copyMakeBorder(img, t_pad, b_pad, l_pad, r_pad, cv2.BORDER_CONSTANT, None, background)\n",
    "\treturn cv2.resize(img, (size, size))\n",
    "    \n",
    "    "
   ]
  },
  {
   "cell_type": "code",
   "execution_count": 71,
   "metadata": {
    "scrolled": true
   },
   "outputs": [
    {
     "name": "stdout",
     "output_type": "stream",
     "text": [
      "[6, 34, 6, 34]\n",
      "[6, 34, 6, 34]\n",
      "[6, 34, 6, 34]\n",
      "[6, 34, 6, 34]\n",
      "[6, 34, 6, 34]\n",
      "[6, 34, 6, 34]\n",
      "[6, 34, 6, 34]\n",
      "[6, 34, 6, 34]\n",
      "[6, 34, 6, 34]\n",
      "[6, 34, 6, 34]\n",
      "[6, 34, 6, 34]\n",
      "[6, 34, 6, 34]\n",
      "[6, 34, 6, 34]\n",
      "[6, 34, 6, 34]\n",
      "[6, 34, 6, 34]\n",
      "[6, 34, 6, 34]\n",
      "[6, 34, 6, 34]\n",
      "[6, 34, 6, 34]\n",
      "[6, 34, 6, 34]\n",
      "[6, 34, 6, 34]\n",
      "[6, 34, 6, 34]\n",
      "[6, 34, 6, 34]\n",
      "[6, 34, 6, 34]\n",
      "[6, 34, 6, 34]\n",
      "[6, 34, 6, 34]\n",
      "[6, 34, 6, 34]\n",
      "[6, 34, 6, 34]\n",
      "[6, 34, 6, 34]\n",
      "[6, 34, 6, 34]\n",
      "[6, 34, 6, 34]\n",
      "[6, 34, 6, 34]\n",
      "[6, 34, 6, 34]\n",
      "[6, 34, 6, 34]\n",
      "[6, 34, 6, 34]\n",
      "[6, 34, 6, 34]\n",
      "[6, 34, 6, 34]\n",
      "[6, 34, 6, 34]\n",
      "[6, 34, 6, 34]\n",
      "[6, 34, 6, 34]\n",
      "[6, 34, 6, 34]\n",
      "[6, 34, 6, 34]\n",
      "[6, 34, 6, 34]\n",
      "[6, 34, 6, 34]\n",
      "[6, 34, 6, 34]\n",
      "[6, 34, 6, 34]\n",
      "[6, 34, 6, 34]\n",
      "[6, 34, 6, 34]\n",
      "[6, 34, 6, 34]\n",
      "[6, 34, 6, 34]\n",
      "[6, 34, 6, 34]\n",
      "[6, 34, 6, 34]\n",
      "[6, 34, 6, 34]\n",
      "[6, 34, 6, 34]\n",
      "[6, 34, 6, 34]\n",
      "[6, 34, 6, 34]\n",
      "[6, 34, 6, 34]\n",
      "[6, 34, 6, 34]\n",
      "[6, 34, 6, 34]\n",
      "[6, 34, 6, 34]\n",
      "[6, 34, 6, 34]\n",
      "[6, 34, 6, 34]\n",
      "[6, 34, 6, 34]\n",
      "[6, 34, 6, 34]\n",
      "[6, 34, 6, 34]\n",
      "[6, 34, 6, 34]\n",
      "[6, 34, 6, 34]\n",
      "[6, 34, 6, 34]\n",
      "[6, 34, 6, 34]\n",
      "[6, 34, 6, 34]\n",
      "[6, 34, 6, 34]\n",
      "[6, 34, 6, 34]\n",
      "[6, 34, 6, 34]\n",
      "[6, 34, 6, 34]\n",
      "[6, 34, 6, 34]\n",
      "[6, 34, 6, 34]\n",
      "[6, 34, 6, 34]\n",
      "[6, 34, 6, 34]\n",
      "[6, 34, 6, 34]\n",
      "[6, 34, 6, 34]\n",
      "[6, 34, 6, 34]\n",
      "[6, 34, 6, 34]\n"
     ]
    }
   ],
   "source": [
    "dig_img = np.zeros((side,side))\n",
    "sud = resized.copy()\n",
    "\n",
    "for j in range(0,9):\n",
    "    for i in range(0,9):\n",
    "        #print(\"The index is\",(i,j))\n",
    "        index = i + (9*j)\n",
    "        (tl,br) = digits[index]\n",
    "        dig_img = resized[tl[0]:br[0],tl[1]:br[1]]\n",
    "        \n",
    "        dig_img,ends = processing(dig_img)\n",
    "        #print(ends)\n",
    "        \n",
    "        hei = ends[1][0] - ends[0][0]\n",
    "        \n",
    "        wid = ends[1][1] - ends[0][1]\n",
    "        #print((hei,wid))\n",
    "        \n",
    "        if (hei*wid  < 1600 and hei*wid > 20):\n",
    "            img_bb = cut_img(dig_img,ends)\n",
    "            last = scale_and_centre(img_bb, side, margin=4, background=0)\n",
    "            #print(np.shape(last))\n",
    "        else:\n",
    "            last = np.zeros((40,40))\n",
    "        sud[40*i:40*(i+1), 40*j:40*(j+1)] = last\n",
    "        \n",
    "\n",
    "cv2.imshow('image', resized) \n",
    "cv2.waitKey(0)   \n",
    "cv2.destroyAllWindows()\n",
    "            \n",
    "cv2.imshow('image', sud) \n",
    "cv2.waitKey(0)   \n",
    "cv2.destroyAllWindows()\n"
   ]
  },
  {
   "cell_type": "code",
   "execution_count": 64,
   "metadata": {},
   "outputs": [],
   "source": [
    "final = cv2.resize(sud,(28*9,28*9))\n",
    "\n",
    "cv2.imshow('image', final) \n",
    "cv2.waitKey(0)   \n",
    "cv2.destroyAllWindows()"
   ]
  },
  {
   "cell_type": "code",
   "execution_count": 73,
   "metadata": {
    "scrolled": false
   },
   "outputs": [
    {
     "name": "stdout",
     "output_type": "stream",
     "text": [
      "81img/d_0_0.jpeg under  progress \n"
     ]
    },
    {
     "data": {
      "image/png": "[encoded data removed]",
      "text/plain": [
       "<Figure size 432x288 with 1 Axes>"
      ]
     },
     "metadata": {
      "needs_background": "light"
     },
     "output_type": "display_data"
    },
    {
     "name": "stdout",
     "output_type": "stream",
     "text": [
      "81img/d_0_4.jpeg under  progress \n"
     ]
    },
    {
     "data": {
      "image/png": "[encoded data removed]",
      "text/plain": [
       "<Figure size 432x288 with 1 Axes>"
      ]
     },
     "metadata": {
      "needs_background": "light"
     },
     "output_type": "display_data"
    },
    {
     "name": "stdout",
     "output_type": "stream",
     "text": [
      "81img/d_0_8.jpeg under  progress \n"
     ]
    },
    {
     "data": {
      "image/png": "[encoded data removed]",
      "text/plain": [
       "<Figure size 432x288 with 1 Axes>"
      ]
     },
     "metadata": {
      "needs_background": "light"
     },
     "output_type": "display_data"
    },
    {
     "name": "stdout",
     "output_type": "stream",
     "text": [
      "81img/d_1_1.jpeg under  progress \n"
     ]
    },
    {
     "data": {
      "image/png": "[encoded data removed]",
      "text/plain": [
       "<Figure size 432x288 with 1 Axes>"
      ]
     },
     "metadata": {
      "needs_background": "light"
     },
     "output_type": "display_data"
    },
    {
     "name": "stdout",
     "output_type": "stream",
     "text": [
      "81img/d_1_3.jpeg under  progress \n"
     ]
    },
    {
     "data": {
      "image/png": "[encoded data removed]",
      "text/plain": [
       "<Figure size 432x288 with 1 Axes>"
      ]
     },
     "metadata": {
      "needs_background": "light"
     },
     "output_type": "display_data"
    },
    {
     "name": "stdout",
     "output_type": "stream",
     "text": [
      "81img/d_1_5.jpeg under  progress \n"
     ]
    },
    {
     "data": {
      "image/png": "[encoded data removed]",
      "text/plain": [
       "<Figure size 432x288 with 1 Axes>"
      ]
     },
     "metadata": {
      "needs_background": "light"
     },
     "output_type": "display_data"
    },
    {
     "name": "stdout",
     "output_type": "stream",
     "text": [
      "81img/d_1_7.jpeg under  progress \n"
     ]
    },
    {
     "data": {
      "image/png": "[encoded data removed]",
      "text/plain": [
       "<Figure size 432x288 with 1 Axes>"
      ]
     },
     "metadata": {
      "needs_background": "light"
     },
     "output_type": "display_data"
    },
    {
     "name": "stdout",
     "output_type": "stream",
     "text": [
      "81img/d_2_2.jpeg under  progress \n"
     ]
    },
    {
     "data": {
      "image/png": "[encoded data removed]",
      "text/plain": [
       "<Figure size 432x288 with 1 Axes>"
      ]
     },
     "metadata": {
      "needs_background": "light"
     },
     "output_type": "display_data"
    },
    {
     "name": "stdout",
     "output_type": "stream",
     "text": [
      "81img/d_2_4.jpeg under  progress \n"
     ]
    },
    {
     "data": {
      "image/png": "[encoded data removed]",
      "text/plain": [
       "<Figure size 432x288 with 1 Axes>"
      ]
     },
     "metadata": {
      "needs_background": "light"
     },
     "output_type": "display_data"
    },
    {
     "name": "stdout",
     "output_type": "stream",
     "text": [
      "81img/d_2_6.jpeg under  progress \n"
     ]
    },
    {
     "data": {
      "image/png": "[encoded data removed]",
      "text/plain": [
       "<Figure size 432x288 with 1 Axes>"
      ]
     },
     "metadata": {
      "needs_background": "light"
     },
     "output_type": "display_data"
    },
    {
     "name": "stdout",
     "output_type": "stream",
     "text": [
      "81img/d_3_1.jpeg under  progress \n"
     ]
    },
    {
     "data": {
      "image/png": "[encoded data removed]",
      "text/plain": [
       "<Figure size 432x288 with 1 Axes>"
      ]
     },
     "metadata": {
      "needs_background": "light"
     },
     "output_type": "display_data"
    },
    {
     "name": "stdout",
     "output_type": "stream",
     "text": [
      "81img/d_3_3.jpeg under  progress \n"
     ]
    },
    {
     "data": {
      "image/png": "[encoded data removed]",
      "text/plain": [
       "<Figure size 432x288 with 1 Axes>"
      ]
     },
     "metadata": {
      "needs_background": "light"
     },
     "output_type": "display_data"
    },
    {
     "name": "stdout",
     "output_type": "stream",
     "text": [
      "81img/d_3_5.jpeg under  progress \n"
     ]
    },
    {
     "data": {
      "image/png": "[encoded data removed]",
      "text/plain": [
       "<Figure size 432x288 with 1 Axes>"
      ]
     },
     "metadata": {
      "needs_background": "light"
     },
     "output_type": "display_data"
    },
    {
     "name": "stdout",
     "output_type": "stream",
     "text": [
      "81img/d_3_7.jpeg under  progress \n"
     ]
    },
    {
     "data": {
      "image/png": "[encoded data removed]",
      "text/plain": [
       "<Figure size 432x288 with 1 Axes>"
      ]
     },
     "metadata": {
      "needs_background": "light"
     },
     "output_type": "display_data"
    },
    {
     "name": "stdout",
     "output_type": "stream",
     "text": [
      "81img/d_4_0.jpeg under  progress \n"
     ]
    },
    {
     "data": {
      "image/png": "[encoded data removed]",
      "text/plain": [
       "<Figure size 432x288 with 1 Axes>"
      ]
     },
     "metadata": {
      "needs_background": "light"
     },
     "output_type": "display_data"
    },
    {
     "name": "stdout",
     "output_type": "stream",
     "text": [
      "81img/d_4_2.jpeg under  progress \n"
     ]
    },
    {
     "data": {
      "image/png": "[encoded data removed]",
      "text/plain": [
       "<Figure size 432x288 with 1 Axes>"
      ]
     },
     "metadata": {
      "needs_background": "light"
     },
     "output_type": "display_data"
    },
    {
     "name": "stdout",
     "output_type": "stream",
     "text": [
      "81img/d_4_4.jpeg under  progress \n"
     ]
    },
    {
     "data": {
      "image/png": "[encoded data removed]",
      "text/plain": [
       "<Figure size 432x288 with 1 Axes>"
      ]
     },
     "metadata": {
      "needs_background": "light"
     },
     "output_type": "display_data"
    },
    {
     "name": "stdout",
     "output_type": "stream",
     "text": [
      "81img/d_4_6.jpeg under  progress \n"
     ]
    },
    {
     "data": {
      "image/png": "[encoded data removed]",
      "text/plain": [
       "<Figure size 432x288 with 1 Axes>"
      ]
     },
     "metadata": {
      "needs_background": "light"
     },
     "output_type": "display_data"
    },
    {
     "name": "stdout",
     "output_type": "stream",
     "text": [
      "81img/d_4_8.jpeg under  progress \n"
     ]
    },
    {
     "data": {
      "image/png": "[encoded data removed]",
      "text/plain": [
       "<Figure size 432x288 with 1 Axes>"
      ]
     },
     "metadata": {
      "needs_background": "light"
     },
     "output_type": "display_data"
    },
    {
     "name": "stdout",
     "output_type": "stream",
     "text": [
      "81img/d_5_1.jpeg under  progress \n"
     ]
    },
    {
     "data": {
      "image/png": "[encoded data removed]",
      "text/plain": [
       "<Figure size 432x288 with 1 Axes>"
      ]
     },
     "metadata": {
      "needs_background": "light"
     },
     "output_type": "display_data"
    },
    {
     "name": "stdout",
     "output_type": "stream",
     "text": [
      "81img/d_5_3.jpeg under  progress \n"
     ]
    },
    {
     "data": {
      "image/png": "[encoded data removed]",
      "text/plain": [
       "<Figure size 432x288 with 1 Axes>"
      ]
     },
     "metadata": {
      "needs_background": "light"
     },
     "output_type": "display_data"
    },
    {
     "name": "stdout",
     "output_type": "stream",
     "text": [
      "81img/d_5_5.jpeg under  progress \n"
     ]
    },
    {
     "data": {
      "image/png": "[encoded data removed]",
      "text/plain": [
       "<Figure size 432x288 with 1 Axes>"
      ]
     },
     "metadata": {
      "needs_background": "light"
     },
     "output_type": "display_data"
    },
    {
     "name": "stdout",
     "output_type": "stream",
     "text": [
      "81img/d_5_7.jpeg under  progress \n"
     ]
    },
    {
     "data": {
      "image/png": "[encoded data removed]",
      "text/plain": [
       "<Figure size 432x288 with 1 Axes>"
      ]
     },
     "metadata": {
      "needs_background": "light"
     },
     "output_type": "display_data"
    },
    {
     "name": "stdout",
     "output_type": "stream",
     "text": [
      "81img/d_6_2.jpeg under  progress \n"
     ]
    },
    {
     "data": {
      "image/png": "[encoded data removed]",
      "text/plain": [
       "<Figure size 432x288 with 1 Axes>"
      ]
     },
     "metadata": {
      "needs_background": "light"
     },
     "output_type": "display_data"
    },
    {
     "name": "stdout",
     "output_type": "stream",
     "text": [
      "81img/d_6_4.jpeg under  progress \n"
     ]
    },
    {
     "data": {
      "image/png": "[encoded data removed]",
      "text/plain": [
       "<Figure size 432x288 with 1 Axes>"
      ]
     },
     "metadata": {
      "needs_background": "light"
     },
     "output_type": "display_data"
    },
    {
     "name": "stdout",
     "output_type": "stream",
     "text": [
      "81img/d_6_6.jpeg under  progress \n"
     ]
    },
    {
     "data": {
      "image/png": "[encoded data removed]",
      "text/plain": [
       "<Figure size 432x288 with 1 Axes>"
      ]
     },
     "metadata": {
      "needs_background": "light"
     },
     "output_type": "display_data"
    },
    {
     "name": "stdout",
     "output_type": "stream",
     "text": [
      "81img/d_7_1.jpeg under  progress \n"
     ]
    },
    {
     "data": {
      "image/png": "[encoded data removed]",
      "text/plain": [
       "<Figure size 432x288 with 1 Axes>"
      ]
     },
     "metadata": {
      "needs_background": "light"
     },
     "output_type": "display_data"
    },
    {
     "name": "stdout",
     "output_type": "stream",
     "text": [
      "81img/d_7_3.jpeg under  progress \n"
     ]
    },
    {
     "data": {
      "image/png": "[encoded data removed]",
      "text/plain": [
       "<Figure size 432x288 with 1 Axes>"
      ]
     },
     "metadata": {
      "needs_background": "light"
     },
     "output_type": "display_data"
    },
    {
     "name": "stdout",
     "output_type": "stream",
     "text": [
      "81img/d_7_5.jpeg under  progress \n"
     ]
    },
    {
     "data": {
      "image/png": "[encoded data removed]",
      "text/plain": [
       "<Figure size 432x288 with 1 Axes>"
      ]
     },
     "metadata": {
      "needs_background": "light"
     },
     "output_type": "display_data"
    },
    {
     "name": "stdout",
     "output_type": "stream",
     "text": [
      "81img/d_7_7.jpeg under  progress \n"
     ]
    },
    {
     "data": {
      "image/png": "[encoded data removed]",
      "text/plain": [
       "<Figure size 432x288 with 1 Axes>"
      ]
     },
     "metadata": {
      "needs_background": "light"
     },
     "output_type": "display_data"
    },
    {
     "name": "stdout",
     "output_type": "stream",
     "text": [
      "81img/d_8_0.jpeg under  progress \n"
     ]
    },
    {
     "data": {
      "image/png": "[encoded data removed]",
      "text/plain": [
       "<Figure size 432x288 with 1 Axes>"
      ]
     },
     "metadata": {
      "needs_background": "light"
     },
     "output_type": "display_data"
    },
    {
     "name": "stdout",
     "output_type": "stream",
     "text": [
      "81img/d_8_4.jpeg under  progress \n"
     ]
    },
    {
     "data": {
      "image/png": "[encoded data removed]",
      "text/plain": [
       "<Figure size 432x288 with 1 Axes>"
      ]
     },
     "metadata": {
      "needs_background": "light"
     },
     "output_type": "display_data"
    },
    {
     "name": "stdout",
     "output_type": "stream",
     "text": [
      "81img/d_8_8.jpeg under  progress \n"
     ]
    },
    {
     "data": {
      "image/png": "[encoded data removed]",
      "text/plain": [
       "<Figure size 432x288 with 1 Axes>"
      ]
     },
     "metadata": {
      "needs_background": "light"
     },
     "output_type": "display_data"
    }
   ],
   "source": [
    "#################################################\n",
    "################################################\n",
    "\n",
    "# test cases : \n",
    "\n",
    "final = cv2.resize(resized,(28*9,28*9))\n",
    "\n",
    "cv2.imshow('image', final) \n",
    "cv2.waitKey(0)   \n",
    "cv2.destroyAllWindows()\n",
    "\n",
    "\n",
    "for i in range (0,9):\n",
    "    for j in range(0,9):\n",
    "        lov = np.zeros((28,28))\n",
    "        t = np.zeros((28,28))\n",
    "        for l in range(0,28):\n",
    "            for m in range(0,28):\n",
    "                t[l][m] = final[28*i + l][28*j + m] \n",
    "                dim = (28*28,1)\n",
    "                red = np.reshape(t,dim)\n",
    "                \n",
    "                lov = np.reshape(red,(28,28))\n",
    "                lov  =lov.astype('uint8')\n",
    "\n",
    "#pt = (0,0)\n",
    "#cv2.floodFill(lov, None,pt , 0)\n",
    "#cv2.floodFill(t, None, (0, 0), 0)\n",
    "\n",
    "                height = 28\n",
    "                width = 28  \n",
    "        s = np.sum(lov)\n",
    "        if(s > 7*255):\n",
    "            \n",
    "                            #\n",
    "            \n",
    "            title =\"81img/\"+ \"d_\"+str(i)+\"_\"+str(j)+\".jpeg\"\n",
    "        \n",
    "            print(title + \" under  progress \")\n",
    "        \n",
    "            cv2.imwrite(title, lov) \n",
    "        \n",
    "\n",
    "            plt.imshow(lov,cmap='gray', vmin=0, vmax=255)\n",
    "        #plt.savefig(lov,title)\n",
    "        #print(title)\n",
    "            plt.show()\n",
    "        \n",
    "\n"
   ]
  },
  {
   "cell_type": "code",
   "execution_count": 65,
   "metadata": {
    "scrolled": true
   },
   "outputs": [
    {
     "name": "stdout",
     "output_type": "stream",
     "text": [
      "81img/d_0_0.jpeg under  progress \n"
     ]
    },
    {
     "data": {
      "image/png": "[encoded data removed]",
      "text/plain": [
       "<Figure size 432x288 with 1 Axes>"
      ]
     },
     "metadata": {
      "needs_background": "light"
     },
     "output_type": "display_data"
    },
    {
     "name": "stdout",
     "output_type": "stream",
     "text": [
      "81img/d_0_4.jpeg under  progress \n"
     ]
    },
    {
     "data": {
      "image/png": "[encoded data removed]",
      "text/plain": [
       "<Figure size 432x288 with 1 Axes>"
      ]
     },
     "metadata": {
      "needs_background": "light"
     },
     "output_type": "display_data"
    },
    {
     "name": "stdout",
     "output_type": "stream",
     "text": [
      "81img/d_0_8.jpeg under  progress \n"
     ]
    },
    {
     "data": {
      "image/png": "[encoded data removed]",
      "text/plain": [
       "<Figure size 432x288 with 1 Axes>"
      ]
     },
     "metadata": {
      "needs_background": "light"
     },
     "output_type": "display_data"
    },
    {
     "name": "stdout",
     "output_type": "stream",
     "text": [
      "81img/d_1_1.jpeg under  progress \n"
     ]
    },
    {
     "data": {
      "image/png": "[encoded data removed]",
      "text/plain": [
       "<Figure size 432x288 with 1 Axes>"
      ]
     },
     "metadata": {
      "needs_background": "light"
     },
     "output_type": "display_data"
    },
    {
     "name": "stdout",
     "output_type": "stream",
     "text": [
      "81img/d_1_3.jpeg under  progress \n"
     ]
    },
    {
     "data": {
      "image/png": "[encoded data removed]",
      "text/plain": [
       "<Figure size 432x288 with 1 Axes>"
      ]
     },
     "metadata": {
      "needs_background": "light"
     },
     "output_type": "display_data"
    },
    {
     "name": "stdout",
     "output_type": "stream",
     "text": [
      "81img/d_1_5.jpeg under  progress \n"
     ]
    },
    {
     "data": {
      "image/png": "[encoded data removed]",
      "text/plain": [
       "<Figure size 432x288 with 1 Axes>"
      ]
     },
     "metadata": {
      "needs_background": "light"
     },
     "output_type": "display_data"
    },
    {
     "name": "stdout",
     "output_type": "stream",
     "text": [
      "81img/d_1_7.jpeg under  progress \n"
     ]
    },
    {
     "data": {
      "image/png": "[encoded data removed]",
      "text/plain": [
       "<Figure size 432x288 with 1 Axes>"
      ]
     },
     "metadata": {
      "needs_background": "light"
     },
     "output_type": "display_data"
    },
    {
     "name": "stdout",
     "output_type": "stream",
     "text": [
      "81img/d_2_2.jpeg under  progress \n"
     ]
    },
    {
     "data": {
      "image/png": "[encoded data removed]",
      "text/plain": [
       "<Figure size 432x288 with 1 Axes>"
      ]
     },
     "metadata": {
      "needs_background": "light"
     },
     "output_type": "display_data"
    },
    {
     "name": "stdout",
     "output_type": "stream",
     "text": [
      "81img/d_2_4.jpeg under  progress \n"
     ]
    },
    {
     "data": {
      "image/png": "[encoded data removed]",
      "text/plain": [
       "<Figure size 432x288 with 1 Axes>"
      ]
     },
     "metadata": {
      "needs_background": "light"
     },
     "output_type": "display_data"
    },
    {
     "name": "stdout",
     "output_type": "stream",
     "text": [
      "81img/d_2_6.jpeg under  progress \n"
     ]
    },
    {
     "data": {
      "image/png": "[encoded data removed]",
      "text/plain": [
       "<Figure size 432x288 with 1 Axes>"
      ]
     },
     "metadata": {
      "needs_background": "light"
     },
     "output_type": "display_data"
    },
    {
     "name": "stdout",
     "output_type": "stream",
     "text": [
      "81img/d_3_1.jpeg under  progress \n"
     ]
    },
    {
     "data": {
      "image/png": "[encoded data removed]",
      "text/plain": [
       "<Figure size 432x288 with 1 Axes>"
      ]
     },
     "metadata": {
      "needs_background": "light"
     },
     "output_type": "display_data"
    },
    {
     "name": "stdout",
     "output_type": "stream",
     "text": [
      "81img/d_3_3.jpeg under  progress \n"
     ]
    },
    {
     "data": {
      "image/png": "[encoded data removed]",
      "text/plain": [
       "<Figure size 432x288 with 1 Axes>"
      ]
     },
     "metadata": {
      "needs_background": "light"
     },
     "output_type": "display_data"
    },
    {
     "name": "stdout",
     "output_type": "stream",
     "text": [
      "81img/d_3_5.jpeg under  progress \n"
     ]
    },
    {
     "data": {
      "image/png": "[encoded data removed]",
      "text/plain": [
       "<Figure size 432x288 with 1 Axes>"
      ]
     },
     "metadata": {
      "needs_background": "light"
     },
     "output_type": "display_data"
    },
    {
     "name": "stdout",
     "output_type": "stream",
     "text": [
      "81img/d_3_7.jpeg under  progress \n"
     ]
    },
    {
     "data": {
      "image/png": "[encoded data removed]",
      "text/plain": [
       "<Figure size 432x288 with 1 Axes>"
      ]
     },
     "metadata": {
      "needs_background": "light"
     },
     "output_type": "display_data"
    },
    {
     "name": "stdout",
     "output_type": "stream",
     "text": [
      "81img/d_4_0.jpeg under  progress \n"
     ]
    },
    {
     "data": {
      "image/png": "[encoded data removed]",
      "text/plain": [
       "<Figure size 432x288 with 1 Axes>"
      ]
     },
     "metadata": {
      "needs_background": "light"
     },
     "output_type": "display_data"
    },
    {
     "name": "stdout",
     "output_type": "stream",
     "text": [
      "81img/d_4_2.jpeg under  progress \n"
     ]
    },
    {
     "data": {
      "image/png": "[encoded data removed]",
      "text/plain": [
       "<Figure size 432x288 with 1 Axes>"
      ]
     },
     "metadata": {
      "needs_background": "light"
     },
     "output_type": "display_data"
    },
    {
     "name": "stdout",
     "output_type": "stream",
     "text": [
      "81img/d_4_4.jpeg under  progress \n"
     ]
    },
    {
     "data": {
      "image/png": "[encoded data removed]",
      "text/plain": [
       "<Figure size 432x288 with 1 Axes>"
      ]
     },
     "metadata": {
      "needs_background": "light"
     },
     "output_type": "display_data"
    },
    {
     "name": "stdout",
     "output_type": "stream",
     "text": [
      "81img/d_4_6.jpeg under  progress \n"
     ]
    },
    {
     "data": {
      "image/png": "[encoded data removed]",
      "text/plain": [
       "<Figure size 432x288 with 1 Axes>"
      ]
     },
     "metadata": {
      "needs_background": "light"
     },
     "output_type": "display_data"
    },
    {
     "name": "stdout",
     "output_type": "stream",
     "text": [
      "81img/d_4_8.jpeg under  progress \n"
     ]
    },
    {
     "data": {
      "image/png": "[encoded data removed]",
      "text/plain": [
       "<Figure size 432x288 with 1 Axes>"
      ]
     },
     "metadata": {
      "needs_background": "light"
     },
     "output_type": "display_data"
    },
    {
     "name": "stdout",
     "output_type": "stream",
     "text": [
      "81img/d_5_1.jpeg under  progress \n"
     ]
    },
    {
     "data": {
      "image/png": "[encoded data removed]",
      "text/plain": [
       "<Figure size 432x288 with 1 Axes>"
      ]
     },
     "metadata": {
      "needs_background": "light"
     },
     "output_type": "display_data"
    },
    {
     "name": "stdout",
     "output_type": "stream",
     "text": [
      "81img/d_5_3.jpeg under  progress \n"
     ]
    },
    {
     "data": {
      "image/png": "[encoded data removed]",
      "text/plain": [
       "<Figure size 432x288 with 1 Axes>"
      ]
     },
     "metadata": {
      "needs_background": "light"
     },
     "output_type": "display_data"
    },
    {
     "name": "stdout",
     "output_type": "stream",
     "text": [
      "81img/d_5_5.jpeg under  progress \n"
     ]
    },
    {
     "data": {
      "image/png": "[encoded data removed]",
      "text/plain": [
       "<Figure size 432x288 with 1 Axes>"
      ]
     },
     "metadata": {
      "needs_background": "light"
     },
     "output_type": "display_data"
    },
    {
     "name": "stdout",
     "output_type": "stream",
     "text": [
      "81img/d_5_7.jpeg under  progress \n"
     ]
    },
    {
     "data": {
      "image/png": "[encoded data removed]",
      "text/plain": [
       "<Figure size 432x288 with 1 Axes>"
      ]
     },
     "metadata": {
      "needs_background": "light"
     },
     "output_type": "display_data"
    },
    {
     "name": "stdout",
     "output_type": "stream",
     "text": [
      "81img/d_6_2.jpeg under  progress \n"
     ]
    },
    {
     "data": {
      "image/png": "[encoded data removed]",
      "text/plain": [
       "<Figure size 432x288 with 1 Axes>"
      ]
     },
     "metadata": {
      "needs_background": "light"
     },
     "output_type": "display_data"
    },
    {
     "name": "stdout",
     "output_type": "stream",
     "text": [
      "81img/d_6_4.jpeg under  progress \n"
     ]
    },
    {
     "data": {
      "image/png": "[encoded data removed]",
      "text/plain": [
       "<Figure size 432x288 with 1 Axes>"
      ]
     },
     "metadata": {
      "needs_background": "light"
     },
     "output_type": "display_data"
    },
    {
     "name": "stdout",
     "output_type": "stream",
     "text": [
      "81img/d_6_6.jpeg under  progress \n"
     ]
    },
    {
     "data": {
      "image/png": "[encoded data removed]",
      "text/plain": [
       "<Figure size 432x288 with 1 Axes>"
      ]
     },
     "metadata": {
      "needs_background": "light"
     },
     "output_type": "display_data"
    },
    {
     "name": "stdout",
     "output_type": "stream",
     "text": [
      "81img/d_7_1.jpeg under  progress \n"
     ]
    },
    {
     "data": {
      "image/png": "[encoded data removed]",
      "text/plain": [
       "<Figure size 432x288 with 1 Axes>"
      ]
     },
     "metadata": {
      "needs_background": "light"
     },
     "output_type": "display_data"
    },
    {
     "name": "stdout",
     "output_type": "stream",
     "text": [
      "81img/d_7_3.jpeg under  progress \n"
     ]
    },
    {
     "data": {
      "image/png": "[encoded data removed]",
      "text/plain": [
       "<Figure size 432x288 with 1 Axes>"
      ]
     },
     "metadata": {
      "needs_background": "light"
     },
     "output_type": "display_data"
    },
    {
     "name": "stdout",
     "output_type": "stream",
     "text": [
      "81img/d_7_5.jpeg under  progress \n"
     ]
    },
    {
     "data": {
      "image/png": "[encoded data removed]",
      "text/plain": [
       "<Figure size 432x288 with 1 Axes>"
      ]
     },
     "metadata": {
      "needs_background": "light"
     },
     "output_type": "display_data"
    },
    {
     "name": "stdout",
     "output_type": "stream",
     "text": [
      "81img/d_7_7.jpeg under  progress \n"
     ]
    },
    {
     "data": {
      "image/png": "[encoded data removed]",
      "text/plain": [
       "<Figure size 432x288 with 1 Axes>"
      ]
     },
     "metadata": {
      "needs_background": "light"
     },
     "output_type": "display_data"
    },
    {
     "name": "stdout",
     "output_type": "stream",
     "text": [
      "81img/d_8_0.jpeg under  progress \n"
     ]
    },
    {
     "data": {
      "image/png": "[encoded data removed]",
      "text/plain": [
       "<Figure size 432x288 with 1 Axes>"
      ]
     },
     "metadata": {
      "needs_background": "light"
     },
     "output_type": "display_data"
    },
    {
     "name": "stdout",
     "output_type": "stream",
     "text": [
      "81img/d_8_4.jpeg under  progress \n"
     ]
    },
    {
     "data": {
      "image/png": "[encoded data removed]",
      "text/plain": [
       "<Figure size 432x288 with 1 Axes>"
      ]
     },
     "metadata": {
      "needs_background": "light"
     },
     "output_type": "display_data"
    },
    {
     "name": "stdout",
     "output_type": "stream",
     "text": [
      "81img/d_8_8.jpeg under  progress \n"
     ]
    },
    {
     "data": {
      "image/png": "[encoded data removed]",
      "text/plain": [
       "<Figure size 432x288 with 1 Axes>"
      ]
     },
     "metadata": {
      "needs_background": "light"
     },
     "output_type": "display_data"
    }
   ],
   "source": [
    "for i in range (0,9):\n",
    "    for j in range(0,9):\n",
    "        lov = np.zeros((28,28))\n",
    "        t = np.zeros((28,28))\n",
    "        for l in range(0,28):\n",
    "            for m in range(0,28):\n",
    "                t[l][m] = final[28*i + l][28*j + m] \n",
    "                dim = (28*28,1)\n",
    "                red = np.reshape(t,dim)\n",
    "                \n",
    "                lov = np.reshape(red,(28,28))\n",
    "                lov  =lov.astype('uint8')\n",
    "\n",
    "#pt = (0,0)\n",
    "#cv2.floodFill(lov, None,pt , 0)\n",
    "#cv2.floodFill(t, None, (0, 0), 0)\n",
    "\n",
    "                height = 28\n",
    "                width = 28  \n",
    "        s = np.sum(lov)\n",
    "        if(s > 7*255):\n",
    "            \n",
    "                            #\n",
    "            \n",
    "            title =\"81img/\"+ \"d_\"+str(i)+\"_\"+str(j)+\".jpeg\"\n",
    "        \n",
    "            print(title + \" under  progress \")\n",
    "        \n",
    "            cv2.imwrite(title, lov) \n",
    "        \n",
    "\n",
    "            plt.imshow(lov,cmap='gray', vmin=0, vmax=255)\n",
    "        #plt.savefig(lov,title)\n",
    "        #print(title)\n",
    "            plt.show()\n",
    "        \n"
   ]
  },
  {
   "cell_type": "code",
   "execution_count": 223,
   "metadata": {},
   "outputs": [
    {
     "name": "stdout",
     "output_type": "stream",
     "text": [
      "uint8\n"
     ]
    },
    {
     "data": {
      "image/png": "[encoded data removed]",
      "text/plain": [
       "<Figure size 432x288 with 1 Axes>"
      ]
     },
     "metadata": {
      "needs_background": "light"
     },
     "output_type": "display_data"
    }
   ],
   "source": [
    "i = 0\n",
    "j = 4\n",
    "        \n",
    "t = np.zeros((28,28))\n",
    "for l in range(0,28):\n",
    "    for m in range(0,28):\n",
    "        t[l][m] = resized[28*i + l][28*j + m] \n",
    "        \n",
    "dim = (28*28,1)\n",
    "red = np.reshape(t,dim)\n",
    "lov = np.reshape(red,(28,28))\n",
    "lov  =lov.astype('uint8')\n",
    "\n",
    "#pt = (0,0)\n",
    "#cv2.floodFill(lov, None,pt , 0)\n",
    "#cv2.floodFill(t, None, (0, 0), 0)\n",
    "\n",
    "height = 28\n",
    "width = 28\n",
    "\n",
    "mask1 = np.zeros((height+2, width+2), np.uint8) \n",
    "print(lov.dtype)# line 26\n",
    "\n",
    "\n",
    "for x in range(0,28):\n",
    "    for y in range(0,28):\n",
    "        if (x < 5 or y < 5 or x > 23 or y > 23):\n",
    "\n",
    "            cv2.floodFill(lov,mask1,(x,y),0)  \n",
    "            \n",
    "            \n",
    "        \n",
    "plt.imshow(lov,cmap='gray', vmin=0, vmax=255)\n",
    "plt.show()\n"
   ]
  },
  {
   "cell_type": "code",
   "execution_count": 47,
   "metadata": {},
   "outputs": [],
   "source": [
    "array = np.zeros((9,9,28*28))\n",
    "temp = np.zeros((28,28))\n",
    "red = np.zeros(28*28) \n",
    "dim = (28*28)\n",
    "for i in range(0,9):\n",
    "    for j in range (0,9):\n",
    "        #print(\"i=  %d and j =  %d \" %(i,j))\n",
    "        for l in range(0,28):\n",
    "            for m in range(0,28):\n",
    "                temp[l][m] = resized[28*i + l][28*j + m] \n",
    "        red = np.reshape(temp,dim)\n",
    "        array[i][j] = red\n",
    "        \n",
    "        \n"
   ]
  },
  {
   "cell_type": "code",
   "execution_count": 48,
   "metadata": {},
   "outputs": [],
   "source": [
    "\n",
    "\n",
    "\n",
    "\n",
    "for i in range(0,9):\n",
    "    for j in range(0,9):\n",
    "        temp9 = np.zeros((28,28))\n",
    "        temp2 = np.zeros(28*28)\n",
    "        \n",
    "        temp2 = array[i][j]\n",
    "        temp9 = np.reshape(temp2,(28,28))\n",
    "        \n",
    "        temp9  =temp9.astype('uint8')\n",
    "\n",
    "        \n",
    "        height = 28\n",
    "        width = 28\n",
    "        mask1 = np.zeros((height+2, width+2), np.uint8) \n",
    "        for a in range(0,28):\n",
    "            for b in range(0,28):\n",
    "                if (a < 5 or b < 5 or a> 23 or b > 23):\n",
    "            #print(\"d\")\n",
    "                    cv2.floodFill(temp9,mask1,(a,b),0)\n",
    "        \n",
    "        temp2  = np.reshape(temp9,(28*28))\n",
    "        array[i][j] = temp2\n",
    "        #plt.imshow(temp9,cmap='gray', vmin=0, vmax=255)\n",
    "        #plt.show()\n",
    "\n"
   ]
  },
  {
   "cell_type": "code",
   "execution_count": 49,
   "metadata": {
    "scrolled": true
   },
   "outputs": [
    {
     "name": "stdout",
     "output_type": "stream",
     "text": [
      "THIS IS  :  (0, 0)\n",
      "(28, 28)\n"
     ]
    },
    {
     "data": {
      "image/png": "[encoded data removed]",
      "text/plain": [
       "<Figure size 432x288 with 1 Axes>"
      ]
     },
     "metadata": {
      "needs_background": "light"
     },
     "output_type": "display_data"
    },
    {
     "name": "stdout",
     "output_type": "stream",
     "text": [
      "THIS IS  :  (0, 1)\n",
      "(28, 28)\n"
     ]
    },
    {
     "data": {
      "image/png": "[encoded data removed]",
      "text/plain": [
       "<Figure size 432x288 with 1 Axes>"
      ]
     },
     "metadata": {
      "needs_background": "light"
     },
     "output_type": "display_data"
    },
    {
     "name": "stdout",
     "output_type": "stream",
     "text": [
      "THIS IS  :  (0, 2)\n",
      "(28, 28)\n"
     ]
    },
    {
     "data": {
      "image/png": "[encoded data removed]",
      "text/plain": [
       "<Figure size 432x288 with 1 Axes>"
      ]
     },
     "metadata": {
      "needs_background": "light"
     },
     "output_type": "display_data"
    },
    {
     "name": "stdout",
     "output_type": "stream",
     "text": [
      "THIS IS  :  (0, 3)\n",
      "(28, 28)\n"
     ]
    },
    {
     "data": {
      "image/png": "[encoded data removed]",
      "text/plain": [
       "<Figure size 432x288 with 1 Axes>"
      ]
     },
     "metadata": {
      "needs_background": "light"
     },
     "output_type": "display_data"
    },
    {
     "name": "stdout",
     "output_type": "stream",
     "text": [
      "THIS IS  :  (0, 4)\n",
      "(28, 28)\n"
     ]
    },
    {
     "data": {
      "image/png": "[encoded data removed]",
      "text/plain": [
       "<Figure size 432x288 with 1 Axes>"
      ]
     },
     "metadata": {
      "needs_background": "light"
     },
     "output_type": "display_data"
    },
    {
     "name": "stdout",
     "output_type": "stream",
     "text": [
      "THIS IS  :  (0, 5)\n",
      "(28, 28)\n"
     ]
    },
    {
     "data": {
      "image/png": "[encoded data removed]",
      "text/plain": [
       "<Figure size 432x288 with 1 Axes>"
      ]
     },
     "metadata": {
      "needs_background": "light"
     },
     "output_type": "display_data"
    },
    {
     "name": "stdout",
     "output_type": "stream",
     "text": [
      "THIS IS  :  (0, 6)\n",
      "(28, 28)\n"
     ]
    },
    {
     "data": {
      "image/png": "[encoded data removed]",
      "text/plain": [
       "<Figure size 432x288 with 1 Axes>"
      ]
     },
     "metadata": {
      "needs_background": "light"
     },
     "output_type": "display_data"
    },
    {
     "name": "stdout",
     "output_type": "stream",
     "text": [
      "THIS IS  :  (0, 7)\n",
      "(28, 28)\n"
     ]
    },
    {
     "data": {
      "image/png": "[encoded data removed]",
      "text/plain": [
       "<Figure size 432x288 with 1 Axes>"
      ]
     },
     "metadata": {
      "needs_background": "light"
     },
     "output_type": "display_data"
    },
    {
     "name": "stdout",
     "output_type": "stream",
     "text": [
      "THIS IS  :  (0, 8)\n",
      "(28, 28)\n"
     ]
    },
    {
     "data": {
      "image/png": "[encoded data removed]",
      "text/plain": [
       "<Figure size 432x288 with 1 Axes>"
      ]
     },
     "metadata": {
      "needs_background": "light"
     },
     "output_type": "display_data"
    },
    {
     "name": "stdout",
     "output_type": "stream",
     "text": [
      "THIS IS  :  (1, 0)\n",
      "(28, 28)\n"
     ]
    },
    {
     "data": {
      "image/png": "[encoded data removed]",
      "text/plain": [
       "<Figure size 432x288 with 1 Axes>"
      ]
     },
     "metadata": {
      "needs_background": "light"
     },
     "output_type": "display_data"
    },
    {
     "name": "stdout",
     "output_type": "stream",
     "text": [
      "THIS IS  :  (1, 1)\n",
      "(28, 28)\n"
     ]
    },
    {
     "data": {
      "image/png": "[encoded data removed]",
      "text/plain": [
       "<Figure size 432x288 with 1 Axes>"
      ]
     },
     "metadata": {
      "needs_background": "light"
     },
     "output_type": "display_data"
    },
    {
     "name": "stdout",
     "output_type": "stream",
     "text": [
      "THIS IS  :  (1, 2)\n",
      "(28, 28)\n"
     ]
    },
    {
     "data": {
      "image/png": "[encoded data removed]",
      "text/plain": [
       "<Figure size 432x288 with 1 Axes>"
      ]
     },
     "metadata": {
      "needs_background": "light"
     },
     "output_type": "display_data"
    },
    {
     "name": "stdout",
     "output_type": "stream",
     "text": [
      "THIS IS  :  (1, 3)\n",
      "(28, 28)\n"
     ]
    },
    {
     "data": {
      "image/png": "[encoded data removed]",
      "text/plain": [
       "<Figure size 432x288 with 1 Axes>"
      ]
     },
     "metadata": {
      "needs_background": "light"
     },
     "output_type": "display_data"
    },
    {
     "name": "stdout",
     "output_type": "stream",
     "text": [
      "THIS IS  :  (1, 4)\n",
      "(28, 28)\n"
     ]
    },
    {
     "data": {
      "image/png": "[encoded data removed]",
      "text/plain": [
       "<Figure size 432x288 with 1 Axes>"
      ]
     },
     "metadata": {
      "needs_background": "light"
     },
     "output_type": "display_data"
    },
    {
     "name": "stdout",
     "output_type": "stream",
     "text": [
      "THIS IS  :  (1, 5)\n",
      "(28, 28)\n"
     ]
    },
    {
     "data": {
      "image/png": "[encoded data removed]",
      "text/plain": [
       "<Figure size 432x288 with 1 Axes>"
      ]
     },
     "metadata": {
      "needs_background": "light"
     },
     "output_type": "display_data"
    },
    {
     "name": "stdout",
     "output_type": "stream",
     "text": [
      "THIS IS  :  (1, 6)\n",
      "(28, 28)\n"
     ]
    },
    {
     "data": {
      "image/png": "[encoded data removed]",
      "text/plain": [
       "<Figure size 432x288 with 1 Axes>"
      ]
     },
     "metadata": {
      "needs_background": "light"
     },
     "output_type": "display_data"
    },
    {
     "name": "stdout",
     "output_type": "stream",
     "text": [
      "THIS IS  :  (1, 7)\n",
      "(28, 28)\n"
     ]
    },
    {
     "data": {
      "image/png": "[encoded data removed]",
      "text/plain": [
       "<Figure size 432x288 with 1 Axes>"
      ]
     },
     "metadata": {
      "needs_background": "light"
     },
     "output_type": "display_data"
    },
    {
     "name": "stdout",
     "output_type": "stream",
     "text": [
      "THIS IS  :  (1, 8)\n",
      "(28, 28)\n"
     ]
    },
    {
     "data": {
      "image/png": "[encoded data removed]",
      "text/plain": [
       "<Figure size 432x288 with 1 Axes>"
      ]
     },
     "metadata": {
      "needs_background": "light"
     },
     "output_type": "display_data"
    },
    {
     "name": "stdout",
     "output_type": "stream",
     "text": [
      "THIS IS  :  (2, 0)\n",
      "(28, 28)\n"
     ]
    },
    {
     "data": {
      "image/png": "[encoded data removed]",
      "text/plain": [
       "<Figure size 432x288 with 1 Axes>"
      ]
     },
     "metadata": {
      "needs_background": "light"
     },
     "output_type": "display_data"
    },
    {
     "name": "stdout",
     "output_type": "stream",
     "text": [
      "THIS IS  :  (2, 1)\n",
      "(28, 28)\n"
     ]
    },
    {
     "data": {
      "image/png": "[encoded data removed]",
      "text/plain": [
       "<Figure size 432x288 with 1 Axes>"
      ]
     },
     "metadata": {
      "needs_background": "light"
     },
     "output_type": "display_data"
    },
    {
     "name": "stdout",
     "output_type": "stream",
     "text": [
      "THIS IS  :  (2, 2)\n",
      "(28, 28)\n"
     ]
    },
    {
     "data": {
      "image/png": "[encoded data removed]",
      "text/plain": [
       "<Figure size 432x288 with 1 Axes>"
      ]
     },
     "metadata": {
      "needs_background": "light"
     },
     "output_type": "display_data"
    },
    {
     "name": "stdout",
     "output_type": "stream",
     "text": [
      "THIS IS  :  (2, 3)\n",
      "(28, 28)\n"
     ]
    },
    {
     "data": {
      "image/png": "[encoded data removed]",
      "text/plain": [
       "<Figure size 432x288 with 1 Axes>"
      ]
     },
     "metadata": {
      "needs_background": "light"
     },
     "output_type": "display_data"
    },
    {
     "name": "stdout",
     "output_type": "stream",
     "text": [
      "THIS IS  :  (2, 4)\n",
      "(28, 28)\n"
     ]
    },
    {
     "data": {
      "image/png": "[encoded data removed]",
      "text/plain": [
       "<Figure size 432x288 with 1 Axes>"
      ]
     },
     "metadata": {
      "needs_background": "light"
     },
     "output_type": "display_data"
    },
    {
     "name": "stdout",
     "output_type": "stream",
     "text": [
      "THIS IS  :  (2, 5)\n",
      "(28, 28)\n"
     ]
    },
    {
     "data": {
      "image/png": "[encoded data removed]",
      "text/plain": [
       "<Figure size 432x288 with 1 Axes>"
      ]
     },
     "metadata": {
      "needs_background": "light"
     },
     "output_type": "display_data"
    },
    {
     "name": "stdout",
     "output_type": "stream",
     "text": [
      "THIS IS  :  (2, 6)\n",
      "(28, 28)\n"
     ]
    },
    {
     "data": {
      "image/png": "[encoded data removed]",
      "text/plain": [
       "<Figure size 432x288 with 1 Axes>"
      ]
     },
     "metadata": {
      "needs_background": "light"
     },
     "output_type": "display_data"
    },
    {
     "name": "stdout",
     "output_type": "stream",
     "text": [
      "THIS IS  :  (2, 7)\n",
      "(28, 28)\n"
     ]
    },
    {
     "data": {
      "image/png": "[encoded data removed]",
      "text/plain": [
       "<Figure size 432x288 with 1 Axes>"
      ]
     },
     "metadata": {
      "needs_background": "light"
     },
     "output_type": "display_data"
    },
    {
     "name": "stdout",
     "output_type": "stream",
     "text": [
      "THIS IS  :  (2, 8)\n",
      "(28, 28)\n"
     ]
    },
    {
     "data": {
      "image/png": "[encoded data removed]",
      "text/plain": [
       "<Figure size 432x288 with 1 Axes>"
      ]
     },
     "metadata": {
      "needs_background": "light"
     },
     "output_type": "display_data"
    },
    {
     "name": "stdout",
     "output_type": "stream",
     "text": [
      "THIS IS  :  (3, 0)\n",
      "(28, 28)\n"
     ]
    },
    {
     "data": {
      "image/png": "[encoded data removed]",
      "text/plain": [
       "<Figure size 432x288 with 1 Axes>"
      ]
     },
     "metadata": {
      "needs_background": "light"
     },
     "output_type": "display_data"
    },
    {
     "name": "stdout",
     "output_type": "stream",
     "text": [
      "THIS IS  :  (3, 1)\n",
      "(28, 28)\n"
     ]
    },
    {
     "data": {
      "image/png": "[encoded data removed]",
      "text/plain": [
       "<Figure size 432x288 with 1 Axes>"
      ]
     },
     "metadata": {
      "needs_background": "light"
     },
     "output_type": "display_data"
    },
    {
     "name": "stdout",
     "output_type": "stream",
     "text": [
      "THIS IS  :  (3, 2)\n",
      "(28, 28)\n"
     ]
    },
    {
     "data": {
      "image/png": "[encoded data removed]",
      "text/plain": [
       "<Figure size 432x288 with 1 Axes>"
      ]
     },
     "metadata": {
      "needs_background": "light"
     },
     "output_type": "display_data"
    },
    {
     "name": "stdout",
     "output_type": "stream",
     "text": [
      "THIS IS  :  (3, 3)\n",
      "(28, 28)\n"
     ]
    },
    {
     "data": {
      "image/png": "[encoded data removed]",
      "text/plain": [
       "<Figure size 432x288 with 1 Axes>"
      ]
     },
     "metadata": {
      "needs_background": "light"
     },
     "output_type": "display_data"
    },
    {
     "name": "stdout",
     "output_type": "stream",
     "text": [
      "THIS IS  :  (3, 4)\n",
      "(28, 28)\n"
     ]
    },
    {
     "data": {
      "image/png": "[encoded data removed]",
      "text/plain": [
       "<Figure size 432x288 with 1 Axes>"
      ]
     },
     "metadata": {
      "needs_background": "light"
     },
     "output_type": "display_data"
    },
    {
     "name": "stdout",
     "output_type": "stream",
     "text": [
      "THIS IS  :  (3, 5)\n",
      "(28, 28)\n"
     ]
    },
    {
     "data": {
      "image/png": "[encoded data removed]",
      "text/plain": [
       "<Figure size 432x288 with 1 Axes>"
      ]
     },
     "metadata": {
      "needs_background": "light"
     },
     "output_type": "display_data"
    },
    {
     "name": "stdout",
     "output_type": "stream",
     "text": [
      "THIS IS  :  (3, 6)\n",
      "(28, 28)\n"
     ]
    },
    {
     "data": {
      "image/png": "[encoded data removed]",
      "text/plain": [
       "<Figure size 432x288 with 1 Axes>"
      ]
     },
     "metadata": {
      "needs_background": "light"
     },
     "output_type": "display_data"
    },
    {
     "name": "stdout",
     "output_type": "stream",
     "text": [
      "THIS IS  :  (3, 7)\n",
      "(28, 28)\n"
     ]
    },
    {
     "data": {
      "image/png": "[encoded data removed]",
      "text/plain": [
       "<Figure size 432x288 with 1 Axes>"
      ]
     },
     "metadata": {
      "needs_background": "light"
     },
     "output_type": "display_data"
    },
    {
     "name": "stdout",
     "output_type": "stream",
     "text": [
      "THIS IS  :  (3, 8)\n",
      "(28, 28)\n"
     ]
    },
    {
     "data": {
      "image/png": "[encoded data removed]",
      "text/plain": [
       "<Figure size 432x288 with 1 Axes>"
      ]
     },
     "metadata": {
      "needs_background": "light"
     },
     "output_type": "display_data"
    },
    {
     "name": "stdout",
     "output_type": "stream",
     "text": [
      "THIS IS  :  (4, 0)\n",
      "(28, 28)\n"
     ]
    },
    {
     "data": {
      "image/png": "[encoded data removed]",
      "text/plain": [
       "<Figure size 432x288 with 1 Axes>"
      ]
     },
     "metadata": {
      "needs_background": "light"
     },
     "output_type": "display_data"
    },
    {
     "name": "stdout",
     "output_type": "stream",
     "text": [
      "THIS IS  :  (4, 1)\n",
      "(28, 28)\n"
     ]
    },
    {
     "data": {
      "image/png": "[encoded data removed]",
      "text/plain": [
       "<Figure size 432x288 with 1 Axes>"
      ]
     },
     "metadata": {
      "needs_background": "light"
     },
     "output_type": "display_data"
    },
    {
     "name": "stdout",
     "output_type": "stream",
     "text": [
      "THIS IS  :  (4, 2)\n",
      "(28, 28)\n"
     ]
    },
    {
     "data": {
      "image/png": "[encoded data removed]",
      "text/plain": [
       "<Figure size 432x288 with 1 Axes>"
      ]
     },
     "metadata": {
      "needs_background": "light"
     },
     "output_type": "display_data"
    },
    {
     "name": "stdout",
     "output_type": "stream",
     "text": [
      "THIS IS  :  (4, 3)\n",
      "(28, 28)\n"
     ]
    },
    {
     "data": {
      "image/png": "[encoded data removed]",
      "text/plain": [
       "<Figure size 432x288 with 1 Axes>"
      ]
     },
     "metadata": {
      "needs_background": "light"
     },
     "output_type": "display_data"
    },
    {
     "name": "stdout",
     "output_type": "stream",
     "text": [
      "THIS IS  :  (4, 4)\n",
      "(28, 28)\n"
     ]
    },
    {
     "data": {
      "image/png": "[encoded data removed]",
      "text/plain": [
       "<Figure size 432x288 with 1 Axes>"
      ]
     },
     "metadata": {
      "needs_background": "light"
     },
     "output_type": "display_data"
    },
    {
     "name": "stdout",
     "output_type": "stream",
     "text": [
      "THIS IS  :  (4, 5)\n",
      "(28, 28)\n"
     ]
    },
    {
     "data": {
      "image/png": "[encoded data removed]",
      "text/plain": [
       "<Figure size 432x288 with 1 Axes>"
      ]
     },
     "metadata": {
      "needs_background": "light"
     },
     "output_type": "display_data"
    },
    {
     "name": "stdout",
     "output_type": "stream",
     "text": [
      "THIS IS  :  (4, 6)\n",
      "(28, 28)\n"
     ]
    },
    {
     "data": {
      "image/png": "[encoded data removed]",
      "text/plain": [
       "<Figure size 432x288 with 1 Axes>"
      ]
     },
     "metadata": {
      "needs_background": "light"
     },
     "output_type": "display_data"
    },
    {
     "name": "stdout",
     "output_type": "stream",
     "text": [
      "THIS IS  :  (4, 7)\n",
      "(28, 28)\n"
     ]
    },
    {
     "data": {
      "image/png": "[encoded data removed]",
      "text/plain": [
       "<Figure size 432x288 with 1 Axes>"
      ]
     },
     "metadata": {
      "needs_background": "light"
     },
     "output_type": "display_data"
    },
    {
     "name": "stdout",
     "output_type": "stream",
     "text": [
      "THIS IS  :  (4, 8)\n",
      "(28, 28)\n"
     ]
    },
    {
     "data": {
      "image/png": "[encoded data removed]",
      "text/plain": [
       "<Figure size 432x288 with 1 Axes>"
      ]
     },
     "metadata": {
      "needs_background": "light"
     },
     "output_type": "display_data"
    },
    {
     "name": "stdout",
     "output_type": "stream",
     "text": [
      "THIS IS  :  (5, 0)\n",
      "(28, 28)\n"
     ]
    },
    {
     "data": {
      "image/png": "[encoded data removed]",
      "text/plain": [
       "<Figure size 432x288 with 1 Axes>"
      ]
     },
     "metadata": {
      "needs_background": "light"
     },
     "output_type": "display_data"
    },
    {
     "name": "stdout",
     "output_type": "stream",
     "text": [
      "THIS IS  :  (5, 1)\n",
      "(28, 28)\n"
     ]
    },
    {
     "data": {
      "image/png": "[encoded data removed]",
      "text/plain": [
       "<Figure size 432x288 with 1 Axes>"
      ]
     },
     "metadata": {
      "needs_background": "light"
     },
     "output_type": "display_data"
    },
    {
     "name": "stdout",
     "output_type": "stream",
     "text": [
      "THIS IS  :  (5, 2)\n",
      "(28, 28)\n"
     ]
    },
    {
     "data": {
      "image/png": "[encoded data removed]",
      "text/plain": [
       "<Figure size 432x288 with 1 Axes>"
      ]
     },
     "metadata": {
      "needs_background": "light"
     },
     "output_type": "display_data"
    },
    {
     "name": "stdout",
     "output_type": "stream",
     "text": [
      "THIS IS  :  (5, 3)\n",
      "(28, 28)\n"
     ]
    },
    {
     "data": {
      "image/png": "[encoded data removed]",
      "text/plain": [
       "<Figure size 432x288 with 1 Axes>"
      ]
     },
     "metadata": {
      "needs_background": "light"
     },
     "output_type": "display_data"
    },
    {
     "name": "stdout",
     "output_type": "stream",
     "text": [
      "THIS IS  :  (5, 4)\n",
      "(28, 28)\n"
     ]
    },
    {
     "data": {
      "image/png": "[encoded data removed]",
      "text/plain": [
       "<Figure size 432x288 with 1 Axes>"
      ]
     },
     "metadata": {
      "needs_background": "light"
     },
     "output_type": "display_data"
    },
    {
     "name": "stdout",
     "output_type": "stream",
     "text": [
      "THIS IS  :  (5, 5)\n",
      "(28, 28)\n"
     ]
    },
    {
     "data": {
      "image/png": "[encoded data removed]",
      "text/plain": [
       "<Figure size 432x288 with 1 Axes>"
      ]
     },
     "metadata": {
      "needs_background": "light"
     },
     "output_type": "display_data"
    },
    {
     "name": "stdout",
     "output_type": "stream",
     "text": [
      "THIS IS  :  (5, 6)\n",
      "(28, 28)\n"
     ]
    },
    {
     "data": {
      "image/png": "[encoded data removed]",
      "text/plain": [
       "<Figure size 432x288 with 1 Axes>"
      ]
     },
     "metadata": {
      "needs_background": "light"
     },
     "output_type": "display_data"
    },
    {
     "name": "stdout",
     "output_type": "stream",
     "text": [
      "THIS IS  :  (5, 7)\n",
      "(28, 28)\n"
     ]
    },
    {
     "data": {
      "image/png": "[encoded data removed]",
      "text/plain": [
       "<Figure size 432x288 with 1 Axes>"
      ]
     },
     "metadata": {
      "needs_background": "light"
     },
     "output_type": "display_data"
    },
    {
     "name": "stdout",
     "output_type": "stream",
     "text": [
      "THIS IS  :  (5, 8)\n",
      "(28, 28)\n"
     ]
    },
    {
     "data": {
      "image/png": "[encoded data removed]",
      "text/plain": [
       "<Figure size 432x288 with 1 Axes>"
      ]
     },
     "metadata": {
      "needs_background": "light"
     },
     "output_type": "display_data"
    },
    {
     "name": "stdout",
     "output_type": "stream",
     "text": [
      "THIS IS  :  (6, 0)\n",
      "(28, 28)\n"
     ]
    },
    {
     "data": {
      "image/png": "[encoded data removed]",
      "text/plain": [
       "<Figure size 432x288 with 1 Axes>"
      ]
     },
     "metadata": {
      "needs_background": "light"
     },
     "output_type": "display_data"
    },
    {
     "name": "stdout",
     "output_type": "stream",
     "text": [
      "THIS IS  :  (6, 1)\n",
      "(28, 28)\n"
     ]
    },
    {
     "data": {
      "image/png": "[encoded data removed]",
      "text/plain": [
       "<Figure size 432x288 with 1 Axes>"
      ]
     },
     "metadata": {
      "needs_background": "light"
     },
     "output_type": "display_data"
    },
    {
     "name": "stdout",
     "output_type": "stream",
     "text": [
      "THIS IS  :  (6, 2)\n",
      "(28, 28)\n"
     ]
    },
    {
     "data": {
      "image/png": "[encoded data removed]",
      "text/plain": [
       "<Figure size 432x288 with 1 Axes>"
      ]
     },
     "metadata": {
      "needs_background": "light"
     },
     "output_type": "display_data"
    },
    {
     "name": "stdout",
     "output_type": "stream",
     "text": [
      "THIS IS  :  (6, 3)\n",
      "(28, 28)\n"
     ]
    },
    {
     "data": {
      "image/png": "[encoded data removed]",
      "text/plain": [
       "<Figure size 432x288 with 1 Axes>"
      ]
     },
     "metadata": {
      "needs_background": "light"
     },
     "output_type": "display_data"
    },
    {
     "name": "stdout",
     "output_type": "stream",
     "text": [
      "THIS IS  :  (6, 4)\n",
      "(28, 28)\n"
     ]
    },
    {
     "data": {
      "image/png": "[encoded data removed]",
      "text/plain": [
       "<Figure size 432x288 with 1 Axes>"
      ]
     },
     "metadata": {
      "needs_background": "light"
     },
     "output_type": "display_data"
    },
    {
     "name": "stdout",
     "output_type": "stream",
     "text": [
      "THIS IS  :  (6, 5)\n",
      "(28, 28)\n"
     ]
    },
    {
     "data": {
      "image/png": "[encoded data removed]",
      "text/plain": [
       "<Figure size 432x288 with 1 Axes>"
      ]
     },
     "metadata": {
      "needs_background": "light"
     },
     "output_type": "display_data"
    },
    {
     "name": "stdout",
     "output_type": "stream",
     "text": [
      "THIS IS  :  (6, 6)\n",
      "(28, 28)\n"
     ]
    },
    {
     "data": {
      "image/png": "[encoded data removed]",
      "text/plain": [
       "<Figure size 432x288 with 1 Axes>"
      ]
     },
     "metadata": {
      "needs_background": "light"
     },
     "output_type": "display_data"
    },
    {
     "name": "stdout",
     "output_type": "stream",
     "text": [
      "THIS IS  :  (6, 7)\n",
      "(28, 28)\n"
     ]
    },
    {
     "data": {
      "image/png": "[encoded data removed]",
      "text/plain": [
       "<Figure size 432x288 with 1 Axes>"
      ]
     },
     "metadata": {
      "needs_background": "light"
     },
     "output_type": "display_data"
    },
    {
     "name": "stdout",
     "output_type": "stream",
     "text": [
      "THIS IS  :  (6, 8)\n",
      "(28, 28)\n"
     ]
    },
    {
     "data": {
      "image/png": "[encoded data removed]",
      "text/plain": [
       "<Figure size 432x288 with 1 Axes>"
      ]
     },
     "metadata": {
      "needs_background": "light"
     },
     "output_type": "display_data"
    },
    {
     "name": "stdout",
     "output_type": "stream",
     "text": [
      "THIS IS  :  (7, 0)\n",
      "(28, 28)\n"
     ]
    },
    {
     "data": {
      "image/png": "[encoded data removed]",
      "text/plain": [
       "<Figure size 432x288 with 1 Axes>"
      ]
     },
     "metadata": {
      "needs_background": "light"
     },
     "output_type": "display_data"
    },
    {
     "name": "stdout",
     "output_type": "stream",
     "text": [
      "THIS IS  :  (7, 1)\n",
      "(28, 28)\n"
     ]
    },
    {
     "data": {
      "image/png": "[encoded data removed]",
      "text/plain": [
       "<Figure size 432x288 with 1 Axes>"
      ]
     },
     "metadata": {
      "needs_background": "light"
     },
     "output_type": "display_data"
    },
    {
     "name": "stdout",
     "output_type": "stream",
     "text": [
      "THIS IS  :  (7, 2)\n",
      "(28, 28)\n"
     ]
    },
    {
     "data": {
      "image/png": "[encoded data removed]",
      "text/plain": [
       "<Figure size 432x288 with 1 Axes>"
      ]
     },
     "metadata": {
      "needs_background": "light"
     },
     "output_type": "display_data"
    },
    {
     "name": "stdout",
     "output_type": "stream",
     "text": [
      "THIS IS  :  (7, 3)\n",
      "(28, 28)\n"
     ]
    },
    {
     "data": {
      "image/png": "[encoded data removed]",
      "text/plain": [
       "<Figure size 432x288 with 1 Axes>"
      ]
     },
     "metadata": {
      "needs_background": "light"
     },
     "output_type": "display_data"
    },
    {
     "name": "stdout",
     "output_type": "stream",
     "text": [
      "THIS IS  :  (7, 4)\n",
      "(28, 28)\n"
     ]
    },
    {
     "data": {
      "image/png": "[encoded data removed]",
      "text/plain": [
       "<Figure size 432x288 with 1 Axes>"
      ]
     },
     "metadata": {
      "needs_background": "light"
     },
     "output_type": "display_data"
    },
    {
     "name": "stdout",
     "output_type": "stream",
     "text": [
      "THIS IS  :  (7, 5)\n",
      "(28, 28)\n"
     ]
    },
    {
     "data": {
      "image/png": "[encoded data removed]",
      "text/plain": [
       "<Figure size 432x288 with 1 Axes>"
      ]
     },
     "metadata": {
      "needs_background": "light"
     },
     "output_type": "display_data"
    },
    {
     "name": "stdout",
     "output_type": "stream",
     "text": [
      "THIS IS  :  (7, 6)\n",
      "(28, 28)\n"
     ]
    },
    {
     "data": {
      "image/png": "[encoded data removed]",
      "text/plain": [
       "<Figure size 432x288 with 1 Axes>"
      ]
     },
     "metadata": {
      "needs_background": "light"
     },
     "output_type": "display_data"
    },
    {
     "name": "stdout",
     "output_type": "stream",
     "text": [
      "THIS IS  :  (7, 7)\n",
      "(28, 28)\n"
     ]
    },
    {
     "data": {
      "image/png": "[encoded data removed]",
      "text/plain": [
       "<Figure size 432x288 with 1 Axes>"
      ]
     },
     "metadata": {
      "needs_background": "light"
     },
     "output_type": "display_data"
    },
    {
     "name": "stdout",
     "output_type": "stream",
     "text": [
      "THIS IS  :  (7, 8)\n",
      "(28, 28)\n"
     ]
    },
    {
     "data": {
      "image/png": "[encoded data removed]",
      "text/plain": [
       "<Figure size 432x288 with 1 Axes>"
      ]
     },
     "metadata": {
      "needs_background": "light"
     },
     "output_type": "display_data"
    },
    {
     "name": "stdout",
     "output_type": "stream",
     "text": [
      "THIS IS  :  (8, 0)\n",
      "(28, 28)\n"
     ]
    },
    {
     "data": {
      "image/png": "[encoded data removed]",
      "text/plain": [
       "<Figure size 432x288 with 1 Axes>"
      ]
     },
     "metadata": {
      "needs_background": "light"
     },
     "output_type": "display_data"
    },
    {
     "name": "stdout",
     "output_type": "stream",
     "text": [
      "THIS IS  :  (8, 1)\n",
      "(28, 28)\n"
     ]
    },
    {
     "data": {
      "image/png": "[encoded data removed]",
      "text/plain": [
       "<Figure size 432x288 with 1 Axes>"
      ]
     },
     "metadata": {
      "needs_background": "light"
     },
     "output_type": "display_data"
    },
    {
     "name": "stdout",
     "output_type": "stream",
     "text": [
      "THIS IS  :  (8, 2)\n",
      "(28, 28)\n"
     ]
    },
    {
     "data": {
      "image/png": "[encoded data removed]",
      "text/plain": [
       "<Figure size 432x288 with 1 Axes>"
      ]
     },
     "metadata": {
      "needs_background": "light"
     },
     "output_type": "display_data"
    },
    {
     "name": "stdout",
     "output_type": "stream",
     "text": [
      "THIS IS  :  (8, 3)\n",
      "(28, 28)\n"
     ]
    },
    {
     "data": {
      "image/png": "[encoded data removed]",
      "text/plain": [
       "<Figure size 432x288 with 1 Axes>"
      ]
     },
     "metadata": {
      "needs_background": "light"
     },
     "output_type": "display_data"
    },
    {
     "name": "stdout",
     "output_type": "stream",
     "text": [
      "THIS IS  :  (8, 4)\n",
      "(28, 28)\n"
     ]
    },
    {
     "data": {
      "image/png": "[encoded data removed]",
      "text/plain": [
       "<Figure size 432x288 with 1 Axes>"
      ]
     },
     "metadata": {
      "needs_background": "light"
     },
     "output_type": "display_data"
    },
    {
     "name": "stdout",
     "output_type": "stream",
     "text": [
      "THIS IS  :  (8, 5)\n",
      "(28, 28)\n"
     ]
    },
    {
     "data": {
      "image/png": "[encoded data removed]",
      "text/plain": [
       "<Figure size 432x288 with 1 Axes>"
      ]
     },
     "metadata": {
      "needs_background": "light"
     },
     "output_type": "display_data"
    },
    {
     "name": "stdout",
     "output_type": "stream",
     "text": [
      "THIS IS  :  (8, 6)\n",
      "(28, 28)\n"
     ]
    },
    {
     "data": {
      "image/png": "[encoded data removed]",
      "text/plain": [
       "<Figure size 432x288 with 1 Axes>"
      ]
     },
     "metadata": {
      "needs_background": "light"
     },
     "output_type": "display_data"
    },
    {
     "name": "stdout",
     "output_type": "stream",
     "text": [
      "THIS IS  :  (8, 7)\n",
      "(28, 28)\n"
     ]
    },
    {
     "data": {
      "image/png": "[encoded data removed]",
      "text/plain": [
       "<Figure size 432x288 with 1 Axes>"
      ]
     },
     "metadata": {
      "needs_background": "light"
     },
     "output_type": "display_data"
    },
    {
     "name": "stdout",
     "output_type": "stream",
     "text": [
      "THIS IS  :  (8, 8)\n",
      "(28, 28)\n"
     ]
    },
    {
     "data": {
      "image/png": "[encoded data removed]",
      "text/plain": [
       "<Figure size 432x288 with 1 Axes>"
      ]
     },
     "metadata": {
      "needs_background": "light"
     },
     "output_type": "display_data"
    }
   ],
   "source": [
    "height = 28\n",
    "width = 28\n",
    "\n",
    "mask1 = np.zeros((height+2, width+2), np.uint8) \n",
    "\n",
    "for i in range(0,9):\n",
    "    for j in range(0,9):\n",
    "        temp9 = np.zeros((28,28))\n",
    "        temp2 = np.zeros(28*28)\n",
    "        temp2 = array[i][j]\n",
    "        temp9 = np.reshape(temp2,(28,28))\n",
    "        \n",
    "        temp9  =temp9.astype('uint8')\n",
    "        \n",
    "        print(\"THIS IS  : \",(i,j))\n",
    "        print(np.shape(temp9))\n",
    "        plt.imshow(temp9,cmap='gray', vmin=0, vmax=255)\n",
    "        plt.show()\n"
   ]
  },
  {
   "cell_type": "code",
   "execution_count": 28,
   "metadata": {},
   "outputs": [
    {
     "name": "stdout",
     "output_type": "stream",
     "text": [
      "3.7.4 (default, Aug 13 2019, 20:35:49) \n",
      "[GCC 7.3.0]\n"
     ]
    }
   ],
   "source": [
    "import sys\n",
    "print(sys.version)\n",
    "\n",
    "import tensorflow as tf"
   ]
  },
  {
   "cell_type": "code",
   "execution_count": 27,
   "metadata": {},
   "outputs": [],
   "source": [
    "a = cv2.imread('81img/d_2_7.jpeg',0)\n",
    "kernel = np.ones((2,2), np.uint8)\n",
    "b = cv2.erode(a, kernel, iterations = 2)\n",
    "\n",
    "\n",
    "cv2.imshow('image', a) \n",
    "cv2.waitKey(0)   \n",
    "cv2.destroyAllWindows()\n",
    "\n",
    "cv2.imshow('image', b) \n",
    "cv2.waitKey(0)   \n",
    "cv2.destroyAllWindows()"
   ]
  }
 ],
 "metadata": {
  "kernelspec": {
   "display_name": "Python 3",
   "language": "python",
   "name": "python3"
  },
  "language_info": {
   "codemirror_mode": {
    "name": "ipython",
    "version": 3
   },
   "file_extension": ".py",
   "mimetype": "text/x-python",
   "name": "python",
   "nbconvert_exporter": "python",
   "pygments_lexer": "ipython3",
   "version": "3.7.7"
  }
 },
 "nbformat": 4,
 "nbformat_minor": 4
}
